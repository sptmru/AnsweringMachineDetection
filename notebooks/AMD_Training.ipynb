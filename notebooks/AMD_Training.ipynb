{
 "nbformat": 4,
 "nbformat_minor": 0,
 "metadata": {
  "colab": {
   "name": "AMD-Training.ipynb",
   "version": "0.3.2",
   "provenance": [],
   "collapsed_sections": [],
   "toc_visible": true
  },
  "kernelspec": {
   "name": "python3",
   "display_name": "Python 3",
   "language": "python"
  }
 },
 "cells": [
  {
   "metadata": {
    "id": "HK0vdfSh6k3V",
    "colab_type": "code",
    "colab": {},
    "ExecuteTime": {
     "end_time": "2024-08-15T16:52:44.329749Z",
     "start_time": "2024-08-15T16:52:42.224080Z"
    }
   },
   "cell_type": "code",
   "source": [
    "import librosa\n",
    "import librosa.display\n",
    "import numpy as np\n",
    "import pandas as pd\n",
    "import os"
   ],
   "outputs": [],
   "execution_count": 1
  },
  {
   "metadata": {
    "id": "fZQsByci6-OA",
    "colab_type": "code",
    "outputId": "e8a10fa2-e0d6-4bfc-9e4e-9b483b744ee9",
    "colab": {
     "base_uri": "https://localhost:8080/",
     "height": 564
    },
    "ExecuteTime": {
     "end_time": "2024-08-15T16:52:48.653663Z",
     "start_time": "2024-08-15T16:52:48.602991Z"
    }
   },
   "cell_type": "code",
   "source": [
    "RECORDINGS_PATH = \"/Users/sptm/dev/personal/beep-detection-dataset/audiofiles\"\n",
    "os.chdir(RECORDINGS_PATH)\n",
    "df = pd.read_pickle(\"amd-df.pkl\")\n",
    "\n",
    "\n",
    "#convert label seriers to ints\n",
    "from sklearn import preprocessing\n",
    "le = preprocessing.LabelEncoder()\n",
    "le.fit(df['label'])\n",
    "df['label'] = le.transform(df['label']) \n",
    "\n",
    "print(\"count:\")\n",
    "print(df.label.value_counts())\n",
    "le_name_mapping = dict(zip(le.classes_, le.transform(le.classes_)))\n",
    "print(le_name_mapping)\n",
    "class_names = le.classes_\n",
    "\n",
    "df.head()\n"
   ],
   "outputs": [
    {
     "name": "stdout",
     "output_type": "stream",
     "text": [
      "count:\n",
      "0    101\n",
      "1     32\n",
      "Name: label, dtype: int64\n",
      "{'beep': 0, 'speech': 1}\n"
     ]
    },
    {
     "data": {
      "text/plain": [
       "                              file_path  \\\n",
       "0  beep/overdrive_beep_1000_0.5_1.1.wav   \n",
       "2             beep/beep_500_0.5_1.1.wav   \n",
       "4            beep/beep_1500_0.5_1.2.wav   \n",
       "6   beep/whitenoise_beep_1000_1_1.4.wav   \n",
       "8  beep/overdrive_beep_1000_0.2_0.9.wav   \n",
       "\n",
       "                                            mfccs_40  \\\n",
       "0  [-648.7732023402463, 20.740027296822582, -5.91...   \n",
       "2  [-480.8374331960098, 10.282236333040958, 3.655...   \n",
       "4  [-479.43226392005187, 8.823462420491044, -7.00...   \n",
       "6  [-510.32630840985456, 116.5288260006204, -61.4...   \n",
       "8  [-633.8929389641592, 13.329635016242825, -1.71...   \n",
       "\n",
       "                                              chroma  \\\n",
       "0  [0.7426175694626616, 0.7781152791222149, 0.824...   \n",
       "2  [0.7520259169180716, 0.7858180386260021, 0.833...   \n",
       "4  [0.7113293586172407, 0.7758262316678054, 0.829...   \n",
       "6  [0.6301969016301114, 0.6376268612024417, 0.672...   \n",
       "8  [0.7774235039606778, 0.8326985399960135, 0.887...   \n",
       "\n",
       "                                                 mel  \\\n",
       "0  [0.0026247237229858823, 0.0006950270827125862,...   \n",
       "2  [0.031262080105508704, 0.03167270253963774, 0....   \n",
       "4  [0.007056509943697298, 0.005333584908935328, 0...   \n",
       "6  [0.0015886821479110318, 0.0009468671348235026,...   \n",
       "8  [0.003848214383519196, 0.0009013721193474459, ...   \n",
       "\n",
       "                                            contrast  \\\n",
       "0  [56.51764945998396, 16.33025638875271, 16.9291...   \n",
       "2  [49.83079341143087, 15.750314235349212, 19.078...   \n",
       "4  [54.4286362849155, 18.782510605942036, 19.1482...   \n",
       "6  [22.677968639075868, 12.218876538183435, 13.80...   \n",
       "8  [61.9167246932255, 19.312564563129726, 19.5758...   \n",
       "\n",
       "                                             tonnetz  duration  label  \n",
       "0  [0.007893745237780317, 0.025323062200878606, 0...      5.08      0  \n",
       "2  [0.00024741614877230386, 0.03390149680750231, ...      5.06      0  \n",
       "4  [0.00016978951816631077, 0.02980498970033441, ...      5.04      0  \n",
       "6  [0.004513859067965158, -0.003625802336170082, ...      5.06      0  \n",
       "8  [0.002519536997647612, 0.0634943357789246, 0.0...      5.06      0  "
      ],
      "text/html": [
       "<div>\n",
       "<style scoped>\n",
       "    .dataframe tbody tr th:only-of-type {\n",
       "        vertical-align: middle;\n",
       "    }\n",
       "\n",
       "    .dataframe tbody tr th {\n",
       "        vertical-align: top;\n",
       "    }\n",
       "\n",
       "    .dataframe thead th {\n",
       "        text-align: right;\n",
       "    }\n",
       "</style>\n",
       "<table border=\"1\" class=\"dataframe\">\n",
       "  <thead>\n",
       "    <tr style=\"text-align: right;\">\n",
       "      <th></th>\n",
       "      <th>file_path</th>\n",
       "      <th>mfccs_40</th>\n",
       "      <th>chroma</th>\n",
       "      <th>mel</th>\n",
       "      <th>contrast</th>\n",
       "      <th>tonnetz</th>\n",
       "      <th>duration</th>\n",
       "      <th>label</th>\n",
       "    </tr>\n",
       "  </thead>\n",
       "  <tbody>\n",
       "    <tr>\n",
       "      <th>0</th>\n",
       "      <td>beep/overdrive_beep_1000_0.5_1.1.wav</td>\n",
       "      <td>[-648.7732023402463, 20.740027296822582, -5.91...</td>\n",
       "      <td>[0.7426175694626616, 0.7781152791222149, 0.824...</td>\n",
       "      <td>[0.0026247237229858823, 0.0006950270827125862,...</td>\n",
       "      <td>[56.51764945998396, 16.33025638875271, 16.9291...</td>\n",
       "      <td>[0.007893745237780317, 0.025323062200878606, 0...</td>\n",
       "      <td>5.08</td>\n",
       "      <td>0</td>\n",
       "    </tr>\n",
       "    <tr>\n",
       "      <th>2</th>\n",
       "      <td>beep/beep_500_0.5_1.1.wav</td>\n",
       "      <td>[-480.8374331960098, 10.282236333040958, 3.655...</td>\n",
       "      <td>[0.7520259169180716, 0.7858180386260021, 0.833...</td>\n",
       "      <td>[0.031262080105508704, 0.03167270253963774, 0....</td>\n",
       "      <td>[49.83079341143087, 15.750314235349212, 19.078...</td>\n",
       "      <td>[0.00024741614877230386, 0.03390149680750231, ...</td>\n",
       "      <td>5.06</td>\n",
       "      <td>0</td>\n",
       "    </tr>\n",
       "    <tr>\n",
       "      <th>4</th>\n",
       "      <td>beep/beep_1500_0.5_1.2.wav</td>\n",
       "      <td>[-479.43226392005187, 8.823462420491044, -7.00...</td>\n",
       "      <td>[0.7113293586172407, 0.7758262316678054, 0.829...</td>\n",
       "      <td>[0.007056509943697298, 0.005333584908935328, 0...</td>\n",
       "      <td>[54.4286362849155, 18.782510605942036, 19.1482...</td>\n",
       "      <td>[0.00016978951816631077, 0.02980498970033441, ...</td>\n",
       "      <td>5.04</td>\n",
       "      <td>0</td>\n",
       "    </tr>\n",
       "    <tr>\n",
       "      <th>6</th>\n",
       "      <td>beep/whitenoise_beep_1000_1_1.4.wav</td>\n",
       "      <td>[-510.32630840985456, 116.5288260006204, -61.4...</td>\n",
       "      <td>[0.6301969016301114, 0.6376268612024417, 0.672...</td>\n",
       "      <td>[0.0015886821479110318, 0.0009468671348235026,...</td>\n",
       "      <td>[22.677968639075868, 12.218876538183435, 13.80...</td>\n",
       "      <td>[0.004513859067965158, -0.003625802336170082, ...</td>\n",
       "      <td>5.06</td>\n",
       "      <td>0</td>\n",
       "    </tr>\n",
       "    <tr>\n",
       "      <th>8</th>\n",
       "      <td>beep/overdrive_beep_1000_0.2_0.9.wav</td>\n",
       "      <td>[-633.8929389641592, 13.329635016242825, -1.71...</td>\n",
       "      <td>[0.7774235039606778, 0.8326985399960135, 0.887...</td>\n",
       "      <td>[0.003848214383519196, 0.0009013721193474459, ...</td>\n",
       "      <td>[61.9167246932255, 19.312564563129726, 19.5758...</td>\n",
       "      <td>[0.002519536997647612, 0.0634943357789246, 0.0...</td>\n",
       "      <td>5.06</td>\n",
       "      <td>0</td>\n",
       "    </tr>\n",
       "  </tbody>\n",
       "</table>\n",
       "</div>"
      ]
     },
     "execution_count": 2,
     "metadata": {},
     "output_type": "execute_result"
    }
   ],
   "execution_count": 2
  },
  {
   "metadata": {
    "id": "Vz7r076OLtN6",
    "colab_type": "code",
    "outputId": "6e9daf1b-09cc-4fe2-a076-cc795ab2ea3d",
    "colab": {
     "base_uri": "https://localhost:8080/",
     "height": 68
    },
    "ExecuteTime": {
     "end_time": "2024-08-15T16:52:54.177916Z",
     "start_time": "2024-08-15T16:52:54.167371Z"
    }
   },
   "cell_type": "code",
   "source": [
    "#remove files with durations longer than 10 seconds\n",
    "df = df.copy()\n",
    "df = df.drop(df[ df['duration']>10].index)\n",
    "df.reset_index(drop=True, inplace=True)\n",
    "\n",
    "print(df.label.value_counts())\n"
   ],
   "outputs": [
    {
     "name": "stdout",
     "output_type": "stream",
     "text": [
      "0    101\n",
      "1     32\n",
      "Name: label, dtype: int64\n"
     ]
    }
   ],
   "execution_count": 3
  },
  {
   "metadata": {
    "id": "d5qUJc-vCuf7",
    "colab_type": "code",
    "colab": {},
    "ExecuteTime": {
     "end_time": "2024-08-15T16:54:40.514698Z",
     "start_time": "2024-08-15T16:54:40.501252Z"
    }
   },
   "cell_type": "code",
   "source": [
    "from sklearn import metrics\n",
    "import matplotlib.pyplot as plt\n",
    "import itertools\n",
    "from sklearn.externals import joblib\n",
    "import datetime\n",
    "import pickle\n",
    "\n",
    "\n",
    "def print_classification_results(y_test, res):\n",
    "    print(metrics.accuracy_score(y_test, res))\n",
    "    print(metrics.classification_report(y_test, res))\n",
    "    print(metrics.confusion_matrix(y_test, res))\n",
    "    print(\"\")\n",
    "\n",
    "    \n",
    "def plot_confusion_matrix(cm, classes,\n",
    "                          normalize=False,\n",
    "                          title='Confusion matrix',\n",
    "                          cmap=plt.cm.Blues):\n",
    "    \"\"\"\n",
    "    This function prints and plots the confusion matrix.\n",
    "    Normalization can be applied by setting `normalize=True`.\n",
    "    \"\"\"\n",
    "    if normalize:\n",
    "        cm = cm.astype('float') / cm.sum(axis=1)[:, np.newaxis]\n",
    "        print(\"Normalized confusion matrix\")\n",
    "    else:\n",
    "        print('Confusion matrix, without normalization')\n",
    "\n",
    "    print(cm)\n",
    "\n",
    "    plt.imshow(cm, interpolation='nearest', cmap=cmap)\n",
    "    plt.title(title)\n",
    "    plt.colorbar()\n",
    "    tick_marks = np.arange(len(classes))\n",
    "    plt.xticks(tick_marks, classes, rotation=45)\n",
    "    plt.yticks(tick_marks, classes)\n",
    "\n",
    "    fmt = '.2f' if normalize else 'd'\n",
    "    thresh = cm.max() / 2.\n",
    "    for i, j in itertools.product(range(cm.shape[0]), range(cm.shape[1])):\n",
    "        plt.text(j, i, format(cm[i, j], fmt),\n",
    "                 horizontalalignment=\"center\",\n",
    "                 color=\"white\" if cm[i, j] > thresh else \"black\")\n",
    "\n",
    "    plt.ylabel('True label')\n",
    "    plt.xlabel('Predicted label')\n",
    "    plt.tight_layout()\n",
    "    \n",
    "def save_model(model, model_name):\n",
    "  filename = \"{}-{}.pkl\".format(model_name, datetime.datetime.now().strftime(\"%Y%m%dT%H%M\"))\n",
    "  pickle.dump(model, open(filename, 'wb'))\n",
    "  # files.download(filename)\n",
    "  \n"
   ],
   "outputs": [],
   "execution_count": 5
  },
  {
   "metadata": {
    "id": "qdkrKetkqwTO",
    "colab_type": "code",
    "colab": {},
    "ExecuteTime": {
     "end_time": "2024-08-15T16:54:47.837539Z",
     "start_time": "2024-08-15T16:54:47.825290Z"
    }
   },
   "cell_type": "code",
   "source": [
    "from sklearn.model_selection import train_test_split\n",
    "from sklearn.model_selection import cross_val_score\n",
    "from sklearn import preprocessing\n",
    "\n",
    "def generateFeaturesLabels(features_list):\n",
    "  total_features_len = np.sum([len(df[feature][0]) for feature in features_list])\n",
    "  print(\"total number of features\",total_features_len)\n",
    "  features, labels = np.empty((0,total_features_len)), np.empty(0)\n",
    "  for index, row in df.iterrows():\n",
    "    a = []\n",
    "    for feature in features_list:\n",
    "      a.append(row[feature])\n",
    "      \n",
    "    features = np.vstack([features,np.hstack(a)])\n",
    "    labels = np.append(labels, row[\"label\"])\n",
    "  return np.array(features), np.array(labels, dtype = np.int)\n",
    "\n",
    "def train(features, model):\n",
    "  X, y = generateFeaturesLabels(features)\n",
    "  X_train, X_test, y_train, y_test = train_test_split(X, y, test_size=0.33, random_state=42)\n",
    "  \n",
    "  model.fit(X_train, y_train)\n",
    "  print(\"Score:\",model.score(X_test, y_test))\n",
    "  \n",
    "  cross_val_scores = cross_val_score(model, X, y, cv=5, scoring='f1_macro')\n",
    "  print(\"cross_val_scores:\", cross_val_scores)\n",
    "  print(\"Accuracy: %0.2f (+/- %0.2f)\" % (cross_val_scores.mean(), cross_val_scores.std() * 2))\n",
    "  \n",
    "  predictions = model.predict(X_test)\n",
    "\n",
    "  print_classification_results(y_test, predictions)\n",
    "  \n",
    "  cm = metrics.confusion_matrix(y_test, predictions)\n",
    "  plot_confusion_matrix(cm, class_names)\n",
    "  \n",
    "  print(\"*** Scaled ***\")\n",
    "  scaler = preprocessing.StandardScaler().fit(X_train)\n",
    "  X_train_transformed = scaler.transform(X_train)\n",
    "  scaled_model = model.fit(X_train_transformed, y_train)\n",
    "  X_test_transformed = scaler.transform(X_test)\n",
    "  print(\"scaled_model score:\",model.score(X_test_transformed, y_test))\n",
    "  \n",
    "  return model\n",
    "  \n",
    " "
   ],
   "outputs": [],
   "execution_count": 7
  },
  {
   "metadata": {
    "id": "rV7k6IAdwj3Y",
    "colab_type": "text"
   },
   "cell_type": "markdown",
   "source": [
    "# Training"
   ]
  },
  {
   "metadata": {
    "id": "Nzzs3aFAsnek",
    "colab_type": "text"
   },
   "cell_type": "markdown",
   "source": [
    "## OneVsRest"
   ]
  },
  {
   "metadata": {
    "id": "jQAWYl_JsqAE",
    "colab_type": "code",
    "outputId": "5c0022ba-db3c-4996-bcea-ca16af96477a",
    "colab": {
     "base_uri": "https://localhost:8080/",
     "height": 860
    },
    "ExecuteTime": {
     "end_time": "2024-08-15T16:54:51.821823Z",
     "start_time": "2024-08-15T16:54:50.889833Z"
    }
   },
   "cell_type": "code",
   "source": [
    "from sklearn.multiclass import OneVsRestClassifier\n",
    "from sklearn.linear_model import LogisticRegression\n",
    "base_lr = LogisticRegression(solver='lbfgs', max_iter=4000)\n",
    "ovr = OneVsRestClassifier(base_lr)\n",
    "train(['mfccs_40'], ovr)"
   ],
   "outputs": [
    {
     "name": "stdout",
     "output_type": "stream",
     "text": [
      "total number of features 40\n",
      "Score: 1.0\n",
      "cross_val_scores: [1. 1. 1. 1. 1.]\n",
      "Accuracy: 1.00 (+/- 0.00)\n",
      "1.0\n",
      "              precision    recall  f1-score   support\n",
      "\n",
      "           0       1.00      1.00      1.00        36\n",
      "           1       1.00      1.00      1.00         8\n",
      "\n",
      "   micro avg       1.00      1.00      1.00        44\n",
      "   macro avg       1.00      1.00      1.00        44\n",
      "weighted avg       1.00      1.00      1.00        44\n",
      "\n",
      "[[36  0]\n",
      " [ 0  8]]\n",
      "\n",
      "Confusion matrix, without normalization\n",
      "[[36  0]\n",
      " [ 0  8]]\n",
      "*** Scaled ***\n",
      "scaled_model score: 1.0\n"
     ]
    },
    {
     "data": {
      "text/plain": [
       "OneVsRestClassifier(estimator=LogisticRegression(C=1.0, class_weight=None, dual=False, fit_intercept=True,\n",
       "          intercept_scaling=1, max_iter=4000, multi_class='warn',\n",
       "          n_jobs=None, penalty='l2', random_state=None, solver='lbfgs',\n",
       "          tol=0.0001, verbose=0, warm_start=False),\n",
       "          n_jobs=None)"
      ]
     },
     "execution_count": 8,
     "metadata": {},
     "output_type": "execute_result"
    },
    {
     "data": {
      "text/plain": [
       "<Figure size 432x288 with 2 Axes>"
      ],
      "image/png": "[encoded data removed]"
     },
     "metadata": {
      "needs_background": "light"
     },
     "output_type": "display_data"
    }
   ],
   "execution_count": 8
  },
  {
   "metadata": {
    "id": "t7UzKYQpx2EC",
    "colab_type": "code",
    "colab": {},
    "ExecuteTime": {
     "end_time": "2024-08-15T16:54:57.445354Z",
     "start_time": "2024-08-15T16:54:57.439657Z"
    }
   },
   "cell_type": "code",
   "source": [
    "save_model(ovr,\"ovr\")"
   ],
   "outputs": [],
   "execution_count": 9
  },
  {
   "metadata": {
    "id": "ViJIfEnc49if",
    "colab_type": "text"
   },
   "cell_type": "markdown",
   "source": [
    "## RandomForest"
   ]
  },
  {
   "metadata": {
    "id": "V3XV-OCM4_wE",
    "colab_type": "code",
    "outputId": "7fc0d0ec-fa62-4728-b353-d4009ed5f58a",
    "colab": {
     "base_uri": "https://localhost:8080/",
     "height": 775
    },
    "ExecuteTime": {
     "end_time": "2024-08-15T16:55:00.819583Z",
     "start_time": "2024-08-15T16:54:59.909191Z"
    }
   },
   "cell_type": "code",
   "source": [
    "features_to_include = ['mfccs_40']\n",
    "from sklearn.ensemble import RandomForestClassifier\n",
    "model = RandomForestClassifier(n_estimators = 50)\n",
    "rf = train(features_to_include, model)"
   ],
   "outputs": [
    {
     "name": "stdout",
     "output_type": "stream",
     "text": [
      "total number of features 40\n",
      "Score: 1.0\n",
      "cross_val_scores: [1. 1. 1. 1. 1.]\n",
      "Accuracy: 1.00 (+/- 0.00)\n",
      "1.0\n",
      "              precision    recall  f1-score   support\n",
      "\n",
      "           0       1.00      1.00      1.00        36\n",
      "           1       1.00      1.00      1.00         8\n",
      "\n",
      "   micro avg       1.00      1.00      1.00        44\n",
      "   macro avg       1.00      1.00      1.00        44\n",
      "weighted avg       1.00      1.00      1.00        44\n",
      "\n",
      "[[36  0]\n",
      " [ 0  8]]\n",
      "\n",
      "Confusion matrix, without normalization\n",
      "[[36  0]\n",
      " [ 0  8]]\n",
      "*** Scaled ***\n",
      "scaled_model score: 1.0\n"
     ]
    },
    {
     "data": {
      "text/plain": [
       "<Figure size 432x288 with 2 Axes>"
      ],
      "image/png": "[encoded data removed]"
     },
     "metadata": {
      "needs_background": "light"
     },
     "output_type": "display_data"
    }
   ],
   "execution_count": 10
  },
  {
   "metadata": {
    "id": "KXtXNSZSlCmH",
    "colab_type": "code",
    "colab": {},
    "ExecuteTime": {
     "end_time": "2024-08-15T16:55:10.449135Z",
     "start_time": "2024-08-15T16:55:10.335279Z"
    }
   },
   "cell_type": "code",
   "source": [
    "#working model\n",
    "from sklearn.ensemble import RandomForestClassifier\n",
    "from sklearn.model_selection import train_test_split\n",
    "\n",
    "rf = RandomForestClassifier(n_estimators = 100)\n",
    "X = list(df.mfccs_40.values)\n",
    "y = df.label.values\n",
    "X_train, X_test, y_train, y_test = train_test_split(X, y, test_size=0.33, random_state=42)\n",
    "\n",
    "fit_model = rf.fit(X_train, y_train)"
   ],
   "outputs": [],
   "execution_count": 11
  },
  {
   "metadata": {
    "id": "_JIua0hTyPwq",
    "colab_type": "code",
    "colab": {},
    "ExecuteTime": {
     "end_time": "2024-08-15T16:55:12.718217Z",
     "start_time": "2024-08-15T16:55:12.709765Z"
    }
   },
   "cell_type": "code",
   "source": [
    "save_model(fit_model,\"rf\")"
   ],
   "outputs": [],
   "execution_count": 12
  },
  {
   "metadata": {
    "id": "W_gkeCdhC3eM",
    "colab_type": "text"
   },
   "cell_type": "markdown",
   "source": [
    "## XGBoost"
   ]
  },
  {
   "metadata": {
    "id": "2v_LDj2M_8WY",
    "colab_type": "code",
    "outputId": "a0b41f92-940a-44e5-ba8a-77849f696e78",
    "colab": {
     "base_uri": "https://localhost:8080/",
     "height": 877
    },
    "ExecuteTime": {
     "end_time": "2024-08-15T17:02:16.735957Z",
     "start_time": "2024-08-15T17:02:15.596513Z"
    }
   },
   "cell_type": "code",
   "source": [
    "import xgboost as xgb\n",
    "\n",
    "features_to_include = ['mfccs_40']\n",
    "model = xgb.XGBClassifier()\n",
    "train(features_to_include, model)"
   ],
   "outputs": [
    {
     "name": "stdout",
     "output_type": "stream",
     "text": [
      "total number of features 40\n",
      "[21:02:16] WARNING: /Users/runner/work/xgboost/xgboost/src/learner.cc:1115: Starting in XGBoost 1.3.0, the default evaluation metric used with the objective 'binary:logistic' was changed from 'error' to 'logloss'. Explicitly set eval_metric if you'd like to restore the old behavior.\n",
      "Score: 1.0\n",
      "[21:02:16] WARNING: /Users/runner/work/xgboost/xgboost/src/learner.cc:1115: Starting in XGBoost 1.3.0, the default evaluation metric used with the objective 'binary:logistic' was changed from 'error' to 'logloss'. Explicitly set eval_metric if you'd like to restore the old behavior.\n",
      "[21:02:16] WARNING: /Users/runner/work/xgboost/xgboost/src/learner.cc:1115: Starting in XGBoost 1.3.0, the default evaluation metric used with the objective 'binary:logistic' was changed from 'error' to 'logloss'. Explicitly set eval_metric if you'd like to restore the old behavior.\n",
      "[21:02:16] WARNING: /Users/runner/work/xgboost/xgboost/src/learner.cc:1115: Starting in XGBoost 1.3.0, the default evaluation metric used with the objective 'binary:logistic' was changed from 'error' to 'logloss'. Explicitly set eval_metric if you'd like to restore the old behavior.\n"
     ]
    },
    {
     "name": "stderr",
     "output_type": "stream",
     "text": [
      "/Users/sptm/.pyenv/versions/amd/lib/python3.6/site-packages/xgboost/sklearn.py:1224: UserWarning: The use of label encoder in XGBClassifier is deprecated and will be removed in a future release. To remove this warning, do the following: 1) Pass option use_label_encoder=False when constructing XGBClassifier object; and 2) Encode your labels (y) as integers starting with 0, i.e. 0, 1, 2, ..., [num_class - 1].\n",
      "  warnings.warn(label_encoder_deprecation_msg, UserWarning)\n",
      "/Users/sptm/.pyenv/versions/amd/lib/python3.6/site-packages/xgboost/sklearn.py:1224: UserWarning: The use of label encoder in XGBClassifier is deprecated and will be removed in a future release. To remove this warning, do the following: 1) Pass option use_label_encoder=False when constructing XGBClassifier object; and 2) Encode your labels (y) as integers starting with 0, i.e. 0, 1, 2, ..., [num_class - 1].\n",
      "  warnings.warn(label_encoder_deprecation_msg, UserWarning)\n"
     ]
    },
    {
     "name": "stdout",
     "output_type": "stream",
     "text": [
      "[21:02:16] WARNING: /Users/runner/work/xgboost/xgboost/src/learner.cc:1115: Starting in XGBoost 1.3.0, the default evaluation metric used with the objective 'binary:logistic' was changed from 'error' to 'logloss'. Explicitly set eval_metric if you'd like to restore the old behavior.\n",
      "[21:02:16] WARNING: /Users/runner/work/xgboost/xgboost/src/learner.cc:1115: Starting in XGBoost 1.3.0, the default evaluation metric used with the objective 'binary:logistic' was changed from 'error' to 'logloss'. Explicitly set eval_metric if you'd like to restore the old behavior.\n",
      "cross_val_scores: [1.         1.         1.         1.         0.94871795]\n",
      "Accuracy: 0.99 (+/- 0.04)\n",
      "1.0\n",
      "              precision    recall  f1-score   support\n",
      "\n",
      "           0       1.00      1.00      1.00        36\n",
      "           1       1.00      1.00      1.00         8\n",
      "\n",
      "   micro avg       1.00      1.00      1.00        44\n",
      "   macro avg       1.00      1.00      1.00        44\n",
      "weighted avg       1.00      1.00      1.00        44\n",
      "\n",
      "[[36  0]\n",
      " [ 0  8]]\n",
      "\n",
      "Confusion matrix, without normalization\n",
      "[[36  0]\n",
      " [ 0  8]]\n",
      "*** Scaled ***\n",
      "[21:02:16] WARNING: /Users/runner/work/xgboost/xgboost/src/learner.cc:1115: Starting in XGBoost 1.3.0, the default evaluation metric used with the objective 'binary:logistic' was changed from 'error' to 'logloss'. Explicitly set eval_metric if you'd like to restore the old behavior.\n",
      "scaled_model score: 1.0\n"
     ]
    },
    {
     "name": "stderr",
     "output_type": "stream",
     "text": [
      "/Users/sptm/.pyenv/versions/amd/lib/python3.6/site-packages/xgboost/sklearn.py:1224: UserWarning: The use of label encoder in XGBClassifier is deprecated and will be removed in a future release. To remove this warning, do the following: 1) Pass option use_label_encoder=False when constructing XGBClassifier object; and 2) Encode your labels (y) as integers starting with 0, i.e. 0, 1, 2, ..., [num_class - 1].\n",
      "  warnings.warn(label_encoder_deprecation_msg, UserWarning)\n"
     ]
    },
    {
     "data": {
      "text/plain": [
       "XGBClassifier(base_score=0.5, booster='gbtree', colsample_bylevel=1,\n",
       "       colsample_bynode=1, colsample_bytree=1, enable_categorical=False,\n",
       "       gamma=0, gpu_id=-1, importance_type=None,\n",
       "       interaction_constraints='', learning_rate=0.300000012,\n",
       "       max_delta_step=0, max_depth=6, min_child_weight=1, missing=nan,\n",
       "       monotone_constraints='()', n_estimators=100, n_jobs=16,\n",
       "       num_parallel_tree=1, objective='binary:logistic', predictor='auto',\n",
       "       random_state=0, reg_alpha=0, reg_lambda=1, scale_pos_weight=1,\n",
       "       subsample=1, tree_method='exact', use_label_encoder=True,\n",
       "       validate_parameters=1, verbosity=None)"
      ]
     },
     "execution_count": 15,
     "metadata": {},
     "output_type": "execute_result"
    },
    {
     "data": {
      "text/plain": [
       "<Figure size 432x288 with 2 Axes>"
      ],
      "image/png": "[encoded data removed]"
     },
     "metadata": {
      "needs_background": "light"
     },
     "output_type": "display_data"
    }
   ],
   "execution_count": 15
  },
  {
   "metadata": {
    "id": "Bes2N-7rbQbn",
    "colab_type": "text"
   },
   "cell_type": "markdown",
   "source": [
    ""
   ]
  },
  {
   "metadata": {
    "id": "YBqTkhrAC7e_",
    "colab_type": "text"
   },
   "cell_type": "markdown",
   "source": [
    "## LogisticRegression"
   ]
  },
  {
   "metadata": {
    "id": "QRg7yGf6C_He",
    "colab_type": "code",
    "outputId": "205e0a09-e6d2-4a12-f2c6-b76d01ee76a1",
    "colab": {
     "base_uri": "https://localhost:8080/",
     "height": 843
    },
    "ExecuteTime": {
     "end_time": "2024-08-15T17:02:38.168048Z",
     "start_time": "2024-08-15T17:02:37.926379Z"
    }
   },
   "cell_type": "code",
   "source": [
    "from sklearn.linear_model import LogisticRegression\n",
    "\n",
    "features_to_include = ['mfccs_40']\n",
    "logisticRegr = LogisticRegression(solver='liblinear', max_iter=200)\n",
    "train(features_to_include, logisticRegr)"
   ],
   "outputs": [
    {
     "name": "stdout",
     "output_type": "stream",
     "text": [
      "total number of features 40\n",
      "Score: 1.0\n",
      "cross_val_scores: [1. 1. 1. 1. 1.]\n",
      "Accuracy: 1.00 (+/- 0.00)\n",
      "1.0\n",
      "              precision    recall  f1-score   support\n",
      "\n",
      "           0       1.00      1.00      1.00        36\n",
      "           1       1.00      1.00      1.00         8\n",
      "\n",
      "   micro avg       1.00      1.00      1.00        44\n",
      "   macro avg       1.00      1.00      1.00        44\n",
      "weighted avg       1.00      1.00      1.00        44\n",
      "\n",
      "[[36  0]\n",
      " [ 0  8]]\n",
      "\n",
      "Confusion matrix, without normalization\n",
      "[[36  0]\n",
      " [ 0  8]]\n",
      "*** Scaled ***\n",
      "scaled_model score: 1.0\n"
     ]
    },
    {
     "data": {
      "text/plain": [
       "LogisticRegression(C=1.0, class_weight=None, dual=False, fit_intercept=True,\n",
       "          intercept_scaling=1, max_iter=200, multi_class='warn',\n",
       "          n_jobs=None, penalty='l2', random_state=None, solver='liblinear',\n",
       "          tol=0.0001, verbose=0, warm_start=False)"
      ]
     },
     "execution_count": 16,
     "metadata": {},
     "output_type": "execute_result"
    },
    {
     "data": {
      "text/plain": [
       "<Figure size 432x288 with 2 Axes>"
      ],
      "image/png": "[encoded data removed]"
     },
     "metadata": {
      "needs_background": "light"
     },
     "output_type": "display_data"
    }
   ],
   "execution_count": 16
  },
  {
   "metadata": {
    "id": "uoblFc3YDwso",
    "colab_type": "text"
   },
   "cell_type": "markdown",
   "source": [
    "## SVM"
   ]
  },
  {
   "metadata": {
    "id": "gGbYUV3ZVfu2",
    "colab_type": "code",
    "outputId": "995c65c8-e0ce-4151-fb2c-398bfc632c60",
    "colab": {
     "base_uri": "https://localhost:8080/",
     "height": 843
    },
    "ExecuteTime": {
     "end_time": "2024-08-15T17:02:42.125855Z",
     "start_time": "2024-08-15T17:02:41.863983Z"
    }
   },
   "cell_type": "code",
   "source": [
    "from sklearn import svm\n",
    "svm = svm.SVC(gamma='scale')\n",
    "features_to_include = ['mfccs_40']\n",
    "train(features_to_include, svm)"
   ],
   "outputs": [
    {
     "name": "stdout",
     "output_type": "stream",
     "text": [
      "total number of features 40\n",
      "Score: 1.0\n",
      "cross_val_scores: [1.         1.         0.94871795 1.         0.90225564]\n",
      "Accuracy: 0.97 (+/- 0.08)\n",
      "1.0\n",
      "              precision    recall  f1-score   support\n",
      "\n",
      "           0       1.00      1.00      1.00        36\n",
      "           1       1.00      1.00      1.00         8\n",
      "\n",
      "   micro avg       1.00      1.00      1.00        44\n",
      "   macro avg       1.00      1.00      1.00        44\n",
      "weighted avg       1.00      1.00      1.00        44\n",
      "\n",
      "[[36  0]\n",
      " [ 0  8]]\n",
      "\n",
      "Confusion matrix, without normalization\n",
      "[[36  0]\n",
      " [ 0  8]]\n",
      "*** Scaled ***\n",
      "scaled_model score: 1.0\n"
     ]
    },
    {
     "data": {
      "text/plain": [
       "SVC(C=1.0, cache_size=200, class_weight=None, coef0=0.0,\n",
       "  decision_function_shape='ovr', degree=3, gamma='scale', kernel='rbf',\n",
       "  max_iter=-1, probability=False, random_state=None, shrinking=True,\n",
       "  tol=0.001, verbose=False)"
      ]
     },
     "execution_count": 17,
     "metadata": {},
     "output_type": "execute_result"
    },
    {
     "data": {
      "text/plain": [
       "<Figure size 432x288 with 2 Axes>"
      ],
      "image/png": "[encoded data removed]"
     },
     "metadata": {
      "needs_background": "light"
     },
     "output_type": "display_data"
    }
   ],
   "execution_count": 17
  },
  {
   "metadata": {
    "id": "App-uchxwyjm",
    "colab_type": "text"
   },
   "cell_type": "markdown",
   "source": [
    "#Save Model"
   ]
  },
  {
   "metadata": {
    "id": "mcZSoOOF41ip",
    "colab_type": "code",
    "colab": {},
    "ExecuteTime": {
     "end_time": "2024-08-15T17:02:48.104431Z",
     "start_time": "2024-08-15T17:02:48.096901Z"
    }
   },
   "cell_type": "code",
   "source": [
    "import pickle\n",
    "import datetime\n",
    "filename = \"rf-{}.pkl\".format(datetime.datetime.now().strftime(\"%Y%m%dT%H%M\"))\n",
    "pickle.dump(rf, open(filename, 'wb'))"
   ],
   "outputs": [],
   "execution_count": 18
  }
 ]
}
